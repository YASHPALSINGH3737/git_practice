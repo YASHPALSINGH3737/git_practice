{
  "nbformat": 4,
  "nbformat_minor": 0,
  "metadata": {
    "colab": {
      "name": "DL101_02012021.ipynb",
      "provenance": [],
      "include_colab_link": true
    },
    "kernelspec": {
      "name": "python3",
      "display_name": "Python 3"
    }
  },
  "cells": [
    {
      "cell_type": "markdown",
      "metadata": {
        "id": "view-in-github",
        "colab_type": "text"
      },
      "source": [
        "<a href=\"https://colab.research.google.com/github/YASHPALSINGH3737/git_practice/blob/main/DL101_02012021.ipynb\" target=\"_parent\"><img src=\"https://colab.research.google.com/assets/colab-badge.svg\" alt=\"Open In Colab\"/></a>"
      ]
    },
    {
      "cell_type": "markdown",
      "metadata": {
        "id": "5mrfogk9VwYA"
      },
      "source": [
        "# Section 1 \r\n",
        "Basic Linux commands\r\n"
      ]
    },
    {
      "cell_type": "code",
      "metadata": {
        "id": "RkpSRWKnS_gs"
      },
      "source": [
        "!ls\r\n"
      ],
      "execution_count": null,
      "outputs": []
    },
    {
      "cell_type": "markdown",
      "metadata": {
        "id": "3FjN-WUHThAt"
      },
      "source": [
        "*Finding type and number of processor*"
      ]
    },
    {
      "cell_type": "code",
      "metadata": {
        "id": "QPVZ0iPlTfw3"
      },
      "source": [
        "!cat /proc/cpuinfo"
      ],
      "execution_count": null,
      "outputs": []
    },
    {
      "cell_type": "markdown",
      "metadata": {
        "id": "0VE_33LiUCio"
      },
      "source": [
        "*Finding how much RAM we have*"
      ]
    },
    {
      "cell_type": "code",
      "metadata": {
        "id": "36bDBDXeUGV-"
      },
      "source": [
        "!cat /proc/meminfo"
      ],
      "execution_count": null,
      "outputs": []
    },
    {
      "cell_type": "markdown",
      "metadata": {
        "id": "Ze3H7sXDW-oI"
      },
      "source": [
        "# Section 2\r\n",
        "Python Data Types"
      ]
    },
    {
      "cell_type": "code",
      "metadata": {
        "id": "FkcpI5t9XFdr"
      },
      "source": [
        "name = 'iPhone 5s'"
      ],
      "execution_count": 5,
      "outputs": []
    },
    {
      "cell_type": "code",
      "metadata": {
        "colab": {
          "base_uri": "https://localhost:8080/"
        },
        "id": "YQg96rRcXkgO",
        "outputId": "0acf1ffd-228c-47f4-e13d-74e234ec8b19"
      },
      "source": [
        "type(name)"
      ],
      "execution_count": 6,
      "outputs": [
        {
          "output_type": "execute_result",
          "data": {
            "text/plain": [
              "str"
            ]
          },
          "metadata": {
            "tags": []
          },
          "execution_count": 6
        }
      ]
    },
    {
      "cell_type": "code",
      "metadata": {
        "colab": {
          "base_uri": "https://localhost:8080/"
        },
        "id": "4yOln2hpXn0X",
        "outputId": "b0a38cfc-c936-4eac-fb9c-d77db24d5686"
      },
      "source": [
        "print(name)"
      ],
      "execution_count": 7,
      "outputs": [
        {
          "output_type": "stream",
          "text": [
            "iPhone 5s\n"
          ],
          "name": "stdout"
        }
      ]
    },
    {
      "cell_type": "code",
      "metadata": {
        "colab": {
          "base_uri": "https://localhost:8080/"
        },
        "id": "8kocb6u1XsYO",
        "outputId": "2f27d3d5-a7e1-4bb1-947d-8567ac645985"
      },
      "source": [
        "screen_size = 4.3\r\n",
        "type(screen_size)"
      ],
      "execution_count": 8,
      "outputs": [
        {
          "output_type": "execute_result",
          "data": {
            "text/plain": [
              "float"
            ]
          },
          "metadata": {
            "tags": []
          },
          "execution_count": 8
        }
      ]
    },
    {
      "cell_type": "code",
      "metadata": {
        "colab": {
          "base_uri": "https://localhost:8080/"
        },
        "id": "pnYUM95FX0Hz",
        "outputId": "a462ae39-c554-4d70-87ba-ae6e7b74ab91"
      },
      "source": [
        "numOfSpeakers = 1\r\n",
        "type(numOfSpeakers)"
      ],
      "execution_count": 9,
      "outputs": [
        {
          "output_type": "execute_result",
          "data": {
            "text/plain": [
              "int"
            ]
          },
          "metadata": {
            "tags": []
          },
          "execution_count": 9
        }
      ]
    },
    {
      "cell_type": "code",
      "metadata": {
        "colab": {
          "base_uri": "https://localhost:8080/"
        },
        "id": "Hh7lRexAX9bF",
        "outputId": "50619da7-7c41-4768-daa0-2573354875da"
      },
      "source": [
        "print('I just bought an '+ name)"
      ],
      "execution_count": 10,
      "outputs": [
        {
          "output_type": "stream",
          "text": [
            "I just bought an iPhone 5s\n"
          ],
          "name": "stdout"
        }
      ]
    },
    {
      "cell_type": "code",
      "metadata": {
        "colab": {
          "base_uri": "https://localhost:8080/"
        },
        "id": "wboyNlclYGIb",
        "outputId": "e7ab1bb7-968d-4bbb-d004-2db96dea12cc"
      },
      "source": [
        "a = 3\r\n",
        "b = 2\r\n",
        "print(a * b, a / b, a + b, a - b, a ** b, a // b)"
      ],
      "execution_count": 11,
      "outputs": [
        {
          "output_type": "stream",
          "text": [
            "6 1.5 5 1 9 1\n"
          ],
          "name": "stdout"
        }
      ]
    },
    {
      "cell_type": "code",
      "metadata": {
        "colab": {
          "base_uri": "https://localhost:8080/"
        },
        "id": "e-l6s0Q-YcIv",
        "outputId": "7a642ad2-dc56-467b-f926-a392319a2474"
      },
      "source": [
        "is_android = False\r\n",
        "type(is_android)"
      ],
      "execution_count": 12,
      "outputs": [
        {
          "output_type": "execute_result",
          "data": {
            "text/plain": [
              "bool"
            ]
          },
          "metadata": {
            "tags": []
          },
          "execution_count": 12
        }
      ]
    },
    {
      "cell_type": "code",
      "metadata": {
        "colab": {
          "base_uri": "https://localhost:8080/"
        },
        "id": "I5FGggE0Yhmt",
        "outputId": "b86fce46-80f7-453a-bd01-abd401ca9992"
      },
      "source": [
        "print(is_android == True)"
      ],
      "execution_count": 13,
      "outputs": [
        {
          "output_type": "stream",
          "text": [
            "False\n"
          ],
          "name": "stdout"
        }
      ]
    },
    {
      "cell_type": "code",
      "metadata": {
        "colab": {
          "base_uri": "https://localhost:8080/"
        },
        "id": "g0ng8VgZYmzM",
        "outputId": "972124ad-5dcf-4627-c2c0-94ca39b19d3c"
      },
      "source": [
        "print(is_android == False and numOfSpeakers > 1)"
      ],
      "execution_count": 14,
      "outputs": [
        {
          "output_type": "stream",
          "text": [
            "False\n"
          ],
          "name": "stdout"
        }
      ]
    },
    {
      "cell_type": "code",
      "metadata": {
        "colab": {
          "base_uri": "https://localhost:8080/"
        },
        "id": "Ayu-8QrpYtP8",
        "outputId": "128db726-5b27-47bd-ffb4-764c601b6d3f"
      },
      "source": [
        "if is_android == True:\r\n",
        "  print(name + ' supports Android')\r\n",
        "  print('Continuing to print inside the if block')\r\n",
        "print('Printing this outside the block')"
      ],
      "execution_count": 15,
      "outputs": [
        {
          "output_type": "stream",
          "text": [
            "Printing this outside the block\n"
          ],
          "name": "stdout"
        }
      ]
    },
    {
      "cell_type": "code",
      "metadata": {
        "colab": {
          "base_uri": "https://localhost:8080/"
        },
        "id": "bfHpVX_LZWyO",
        "outputId": "5b265a29-b18b-4909-8939-2b4a932379b4"
      },
      "source": [
        "for i in range(5):\r\n",
        "  print(i, i**2)"
      ],
      "execution_count": 16,
      "outputs": [
        {
          "output_type": "stream",
          "text": [
            "0 0\n",
            "1 1\n",
            "2 4\n",
            "3 9\n",
            "4 16\n"
          ],
          "name": "stdout"
        }
      ]
    },
    {
      "cell_type": "markdown",
      "metadata": {
        "id": "8IfChxUtZnzs"
      },
      "source": [
        "*If you want to know about any functio/method, type the name of that and add ? (Question mark there)*"
      ]
    },
    {
      "cell_type": "code",
      "metadata": {
        "id": "l1S1tHS3ZxP2"
      },
      "source": [
        "range?"
      ],
      "execution_count": 17,
      "outputs": []
    },
    {
      "cell_type": "code",
      "metadata": {
        "colab": {
          "base_uri": "https://localhost:8080/"
        },
        "id": "6uRuqiETZ7dH",
        "outputId": "836049a8-4170-43ee-968b-3badd3dde369"
      },
      "source": [
        "i = 0\r\n",
        "while i < 5:\r\n",
        "  print(i, i**2)\r\n",
        "  i += 1 #equivalent to i = i + 1"
      ],
      "execution_count": 18,
      "outputs": [
        {
          "output_type": "stream",
          "text": [
            "0 0\n",
            "1 1\n",
            "2 4\n",
            "3 9\n",
            "4 16\n"
          ],
          "name": "stdout"
        }
      ]
    },
    {
      "cell_type": "markdown",
      "metadata": {
        "id": "DCtjJMIPaIiA"
      },
      "source": [
        "*Define function syntax*"
      ]
    },
    {
      "cell_type": "code",
      "metadata": {
        "id": "cUROD3G4aLQC"
      },
      "source": [
        "def print_squares(stop_val):\r\n",
        "  for i in range(stop_val):\r\n",
        "    print(i , i**2)"
      ],
      "execution_count": 19,
      "outputs": []
    },
    {
      "cell_type": "code",
      "metadata": {
        "colab": {
          "base_uri": "https://localhost:8080/"
        },
        "id": "kmzmAjmwaYGb",
        "outputId": "7f33f87c-4038-4028-991d-7e27a4065281"
      },
      "source": [
        "print_squares(5)"
      ],
      "execution_count": 20,
      "outputs": [
        {
          "output_type": "stream",
          "text": [
            "0 0\n",
            "1 1\n",
            "2 4\n",
            "3 9\n",
            "4 16\n"
          ],
          "name": "stdout"
        }
      ]
    },
    {
      "cell_type": "code",
      "metadata": {
        "colab": {
          "base_uri": "https://localhost:8080/"
        },
        "id": "WTZFwJGiajTj",
        "outputId": "34bb69d4-f9e0-4ef3-ddb5-a14989364557"
      },
      "source": [
        "print_squares(3)"
      ],
      "execution_count": 21,
      "outputs": [
        {
          "output_type": "stream",
          "text": [
            "0 0\n",
            "1 1\n",
            "2 4\n"
          ],
          "name": "stdout"
        }
      ]
    },
    {
      "cell_type": "markdown",
      "metadata": {
        "id": "7QxhcezLayJp"
      },
      "source": [
        "*Writing a function that can return something*"
      ]
    },
    {
      "cell_type": "code",
      "metadata": {
        "id": "XmtF1Isva3xJ"
      },
      "source": [
        "def sum_of_sqr(stop_val):\r\n",
        "  sum_ = 0\r\n",
        "  for i in range(stop_val):\r\n",
        "    sum_ += i**2\r\n",
        "  return sum_"
      ],
      "execution_count": 22,
      "outputs": []
    },
    {
      "cell_type": "code",
      "metadata": {
        "colab": {
          "base_uri": "https://localhost:8080/"
        },
        "id": "GOvzRcn2axdp",
        "outputId": "ffb7cb2a-067a-4ba6-fa8f-688c4586bbcc"
      },
      "source": [
        "sum_of_sqr(5)"
      ],
      "execution_count": 23,
      "outputs": [
        {
          "output_type": "execute_result",
          "data": {
            "text/plain": [
              "30"
            ]
          },
          "metadata": {
            "tags": []
          },
          "execution_count": 23
        }
      ]
    },
    {
      "cell_type": "code",
      "metadata": {
        "id": "RuLkFmtTb0kE"
      },
      "source": [
        "sum_5 = sum_of_sqr(5)"
      ],
      "execution_count": 24,
      "outputs": []
    },
    {
      "cell_type": "markdown",
      "metadata": {
        "id": "iPmbPrmbb5Yt"
      },
      "source": [
        "*When we want to define function from starting squares from the values we want*"
      ]
    },
    {
      "cell_type": "code",
      "metadata": {
        "id": "MzNFuSeocAG9"
      },
      "source": [
        "def print_squares_withStartVal(stop_val, start_val = 0):\r\n",
        "  \"\"\"Prints the sqaures of numbers starting from start_val (inclusive) and ending with stop_val(exclusive)\"\"\"\r\n",
        "  for i in range(start_val, stop_val):\r\n",
        "    print(i , i**2)"
      ],
      "execution_count": 25,
      "outputs": []
    },
    {
      "cell_type": "code",
      "metadata": {
        "colab": {
          "base_uri": "https://localhost:8080/"
        },
        "id": "7rQZgXAKcgmJ",
        "outputId": "4400ff47-d583-405b-f95c-9ac11eacf5e5"
      },
      "source": [
        "print_squares_withStartVal(5, 2)"
      ],
      "execution_count": 26,
      "outputs": [
        {
          "output_type": "stream",
          "text": [
            "2 4\n",
            "3 9\n",
            "4 16\n"
          ],
          "name": "stdout"
        }
      ]
    },
    {
      "cell_type": "code",
      "metadata": {
        "colab": {
          "base_uri": "https://localhost:8080/"
        },
        "id": "SU-2dl-hc2ck",
        "outputId": "40ba7b84-2f45-4f01-df17-73241b4c9e02"
      },
      "source": [
        "help(print_squares_withStartVal)"
      ],
      "execution_count": 27,
      "outputs": [
        {
          "output_type": "stream",
          "text": [
            "Help on function print_squares_withStartVal in module __main__:\n",
            "\n",
            "print_squares_withStartVal(stop_val, start_val=0)\n",
            "    Prints the sqaures of numbers starting from start_val (inclusive) and ending with stop_val(exclusive)\n",
            "\n"
          ],
          "name": "stdout"
        }
      ]
    },
    {
      "cell_type": "code",
      "metadata": {
        "id": "iAcPd0BYc6ts"
      },
      "source": [
        "print_squares_withStartVal?"
      ],
      "execution_count": 28,
      "outputs": []
    },
    {
      "cell_type": "markdown",
      "metadata": {
        "id": "Z19UWAQg2Nes"
      },
      "source": [
        "# Section 3"
      ]
    },
    {
      "cell_type": "markdown",
      "metadata": {
        "id": "AO27Q9s31FOI"
      },
      "source": [
        "**Day2: Python Basics-Lists**"
      ]
    },
    {
      "cell_type": "code",
      "metadata": {
        "id": "4tSaAjb61i-Y"
      },
      "source": [
        "my_phone = [name, is_android, screen_size]"
      ],
      "execution_count": 29,
      "outputs": []
    },
    {
      "cell_type": "code",
      "metadata": {
        "colab": {
          "base_uri": "https://localhost:8080/"
        },
        "id": "v1tTkv-L16Ox",
        "outputId": "8af27be3-ae7e-4a31-999a-8dc908fdb923"
      },
      "source": [
        "type(my_phone)"
      ],
      "execution_count": 31,
      "outputs": [
        {
          "output_type": "execute_result",
          "data": {
            "text/plain": [
              "list"
            ]
          },
          "metadata": {
            "tags": []
          },
          "execution_count": 31
        }
      ]
    },
    {
      "cell_type": "code",
      "metadata": {
        "colab": {
          "base_uri": "https://localhost:8080/"
        },
        "id": "eWlcVnNQ2VIH",
        "outputId": "3cb223f7-9c13-42a0-dd15-053061c1bcdf"
      },
      "source": [
        "print(my_phone)"
      ],
      "execution_count": 32,
      "outputs": [
        {
          "output_type": "stream",
          "text": [
            "['iPhone 5s', False, 4.3]\n"
          ],
          "name": "stdout"
        }
      ]
    },
    {
      "cell_type": "code",
      "metadata": {
        "colab": {
          "base_uri": "https://localhost:8080/"
        },
        "id": "BEZgNIjl2Ym5",
        "outputId": "e5f82e7f-0558-4a9d-88d4-f62c4091067d"
      },
      "source": [
        "type(my_phone[0])"
      ],
      "execution_count": 33,
      "outputs": [
        {
          "output_type": "execute_result",
          "data": {
            "text/plain": [
              "str"
            ]
          },
          "metadata": {
            "tags": []
          },
          "execution_count": 33
        }
      ]
    },
    {
      "cell_type": "code",
      "metadata": {
        "colab": {
          "base_uri": "https://localhost:8080/"
        },
        "id": "yaLQyeYc2dir",
        "outputId": "07a7ca55-f0ca-4e9f-d6f7-c90dbfb1bf72"
      },
      "source": [
        "my_phone[0:2]"
      ],
      "execution_count": 34,
      "outputs": [
        {
          "output_type": "execute_result",
          "data": {
            "text/plain": [
              "['iPhone 5s', False]"
            ]
          },
          "metadata": {
            "tags": []
          },
          "execution_count": 34
        }
      ]
    },
    {
      "cell_type": "markdown",
      "metadata": {
        "id": "rO22tqvI3Ml1"
      },
      "source": [
        "*normal copy of list where changing value of one list element changes the other list element too, which is referencing that*"
      ]
    },
    {
      "cell_type": "code",
      "metadata": {
        "id": "N0uik4Th3V1D"
      },
      "source": [
        "my_dad_phone = my_phone"
      ],
      "execution_count": 35,
      "outputs": []
    },
    {
      "cell_type": "code",
      "metadata": {
        "colab": {
          "base_uri": "https://localhost:8080/"
        },
        "id": "ggTdEqXD3ZwF",
        "outputId": "2ae0decb-9c31-41ba-fed8-df81831dbea1"
      },
      "source": [
        "print(my_dad_phone)"
      ],
      "execution_count": 36,
      "outputs": [
        {
          "output_type": "stream",
          "text": [
            "['iPhone 5s', False, 4.3]\n"
          ],
          "name": "stdout"
        }
      ]
    },
    {
      "cell_type": "code",
      "metadata": {
        "id": "XnKX9oUV3c2a"
      },
      "source": [
        "my_phone[2] = 4 #assiging a new value to my_phone list"
      ],
      "execution_count": 37,
      "outputs": []
    },
    {
      "cell_type": "code",
      "metadata": {
        "colab": {
          "base_uri": "https://localhost:8080/"
        },
        "id": "sEix2fQJ3lHe",
        "outputId": "df165692-1c65-450c-e856-07f9e6985bf8"
      },
      "source": [
        "print(my_phone)\r\n",
        "print(my_dad_phone)  #changing values in one list, changed the values in other list, that was referencing that.\r\n",
        "#If you don't want to do that."
      ],
      "execution_count": 38,
      "outputs": [
        {
          "output_type": "stream",
          "text": [
            "['iPhone 5s', False, 4]\n",
            "['iPhone 5s', False, 4]\n"
          ],
          "name": "stdout"
        }
      ]
    },
    {
      "cell_type": "code",
      "metadata": {
        "colab": {
          "base_uri": "https://localhost:8080/"
        },
        "id": "4Ei_AyA531wR",
        "outputId": "95dd3230-21b2-46b6-ddfd-c66434308b53"
      },
      "source": [
        "my_phone[2] = 4.3\r\n",
        "my_dad_phone = list(my_phone)\r\n",
        "my_phone[2] = 4\r\n",
        "print(my_phone)\r\n",
        "print(my_dad_phone) #You will see this time that my_phone element changed, but not the my_dad_phone list element"
      ],
      "execution_count": 40,
      "outputs": [
        {
          "output_type": "stream",
          "text": [
            "['iPhone 5s', False, 4]\n",
            "['iPhone 5s', False, 4.3]\n"
          ],
          "name": "stdout"
        }
      ]
    },
    {
      "cell_type": "code",
      "metadata": {
        "colab": {
          "base_uri": "https://localhost:8080/"
        },
        "id": "dpd7bafE4klr",
        "outputId": "5d98ea11-8a66-491d-a4df-54c8e3958120"
      },
      "source": [
        "#checking length of list\r\n",
        "len(my_phone)"
      ],
      "execution_count": 41,
      "outputs": [
        {
          "output_type": "execute_result",
          "data": {
            "text/plain": [
              "3"
            ]
          },
          "metadata": {
            "tags": []
          },
          "execution_count": 41
        }
      ]
    },
    {
      "cell_type": "code",
      "metadata": {
        "colab": {
          "base_uri": "https://localhost:8080/"
        },
        "id": "kde0BKzz5rll",
        "outputId": "af629f7e-0fe3-4850-aa8d-6b68c1d854fd"
      },
      "source": [
        "#How we can iterate through list\r\n",
        "\r\n",
        "for data in my_phone:\r\n",
        "  print(data)"
      ],
      "execution_count": 43,
      "outputs": [
        {
          "output_type": "stream",
          "text": [
            "iPhone 5s\n",
            "False\n",
            "4\n"
          ],
          "name": "stdout"
        }
      ]
    },
    {
      "cell_type": "code",
      "metadata": {
        "colab": {
          "base_uri": "https://localhost:8080/"
        },
        "id": "VIGfjqSP5u2J",
        "outputId": "4f32402c-fd71-4bf5-dfdf-a8f0827e07ea"
      },
      "source": [
        "#Append function for list\r\n",
        "my_phone.append('3G')\r\n",
        "print(my_phone)"
      ],
      "execution_count": 46,
      "outputs": [
        {
          "output_type": "stream",
          "text": [
            "['iPhone 5s', False, 4, '3G', '3G', '3G']\n"
          ],
          "name": "stdout"
        }
      ]
    },
    {
      "cell_type": "code",
      "metadata": {
        "colab": {
          "base_uri": "https://localhost:8080/"
        },
        "id": "cD0_mTOr6Mn6",
        "outputId": "0ea6a548-821e-40c9-e650-7c802a3354d4"
      },
      "source": [
        "#We can append two lists too\r\n",
        "my_phone = ['iPhone 5s', False, 4, '3G']\r\n",
        "my_friend_phone = ['iphone6', 55000]\r\n",
        "\r\n",
        "my_phone += my_friend_phone\r\n",
        "\r\n",
        "print(my_phone)\r\n"
      ],
      "execution_count": 47,
      "outputs": [
        {
          "output_type": "stream",
          "text": [
            "['iPhone 5s', False, 4, '3G', 'iphone6', 55000]\n"
          ],
          "name": "stdout"
        }
      ]
    },
    {
      "cell_type": "code",
      "metadata": {
        "colab": {
          "base_uri": "https://localhost:8080/"
        },
        "id": "NcTAo82u6i7q",
        "outputId": "2d5431df-9f4b-4269-96fc-88f4b9247af8"
      },
      "source": [
        "#We can create the list of range function too\r\n",
        "\r\n",
        "a = list(range(5))\r\n",
        "print(a)"
      ],
      "execution_count": 48,
      "outputs": [
        {
          "output_type": "stream",
          "text": [
            "[0, 1, 2, 3, 4]\n"
          ],
          "name": "stdout"
        }
      ]
    },
    {
      "cell_type": "code",
      "metadata": {
        "colab": {
          "base_uri": "https://localhost:8080/"
        },
        "id": "WVyhxlm46yGs",
        "outputId": "f6ce8d4b-bbd0-4e0a-e03a-6e9695ed4539"
      },
      "source": [
        "#Map function\r\n",
        "b = list(map(lambda x: x**2, a))\r\n",
        "print(b)\r\n"
      ],
      "execution_count": 50,
      "outputs": [
        {
          "output_type": "stream",
          "text": [
            "[0, 1, 4, 9, 16]\n"
          ],
          "name": "stdout"
        }
      ]
    },
    {
      "cell_type": "code",
      "metadata": {
        "colab": {
          "base_uri": "https://localhost:8080/"
        },
        "id": "Q2i4o-iz7Of9",
        "outputId": "ad7b38a9-2392-47dd-8982-0c30248ad9ad"
      },
      "source": [
        "#Filter function that can filter the list based on specific condition\r\n",
        "\r\n",
        "c = list(filter(lambda x: x%2 == 0, b))\r\n",
        "print(c)"
      ],
      "execution_count": 51,
      "outputs": [
        {
          "output_type": "stream",
          "text": [
            "[0, 4, 16]\n"
          ],
          "name": "stdout"
        }
      ]
    }
  ]
}