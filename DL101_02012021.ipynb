{
  "nbformat": 4,
  "nbformat_minor": 0,
  "metadata": {
    "colab": {
      "name": "DL101_02012021.ipynb",
      "provenance": [],
      "toc_visible": true,
      "include_colab_link": true
    },
    "kernelspec": {
      "name": "python3",
      "display_name": "Python 3"
    }
  },
  "cells": [
    {
      "cell_type": "markdown",
      "metadata": {
        "id": "view-in-github",
        "colab_type": "text"
      },
      "source": [
        "<a href=\"https://colab.research.google.com/github/YASHPALSINGH3737/git_practice/blob/main/DL101_02012021.ipynb\" target=\"_parent\"><img src=\"https://colab.research.google.com/assets/colab-badge.svg\" alt=\"Open In Colab\"/></a>"
      ]
    },
    {
      "cell_type": "markdown",
      "metadata": {
        "id": "5mrfogk9VwYA"
      },
      "source": [
        "# Section 1 \r\n",
        "Basic Linux commands\r\n"
      ]
    },
    {
      "cell_type": "code",
      "metadata": {
        "id": "RkpSRWKnS_gs"
      },
      "source": [
        "!ls\r\n"
      ],
      "execution_count": null,
      "outputs": []
    },
    {
      "cell_type": "markdown",
      "metadata": {
        "id": "3FjN-WUHThAt"
      },
      "source": [
        "*Finding type and number of processor*"
      ]
    },
    {
      "cell_type": "code",
      "metadata": {
        "id": "QPVZ0iPlTfw3"
      },
      "source": [
        "!cat /proc/cpuinfo"
      ],
      "execution_count": null,
      "outputs": []
    },
    {
      "cell_type": "markdown",
      "metadata": {
        "id": "0VE_33LiUCio"
      },
      "source": [
        "*Finding how much RAM we have*"
      ]
    },
    {
      "cell_type": "code",
      "metadata": {
        "id": "36bDBDXeUGV-"
      },
      "source": [
        "!cat /proc/meminfo"
      ],
      "execution_count": null,
      "outputs": []
    },
    {
      "cell_type": "markdown",
      "metadata": {
        "id": "Ze3H7sXDW-oI"
      },
      "source": [
        "# Section 2\r\n",
        "Python Data Types"
      ]
    },
    {
      "cell_type": "code",
      "metadata": {
        "id": "FkcpI5t9XFdr"
      },
      "source": [
        "name = 'iPhone 5s'"
      ],
      "execution_count": 1,
      "outputs": []
    },
    {
      "cell_type": "code",
      "metadata": {
        "colab": {
          "base_uri": "https://localhost:8080/"
        },
        "id": "YQg96rRcXkgO",
        "outputId": "5e3aabba-8191-450a-d070-08c2a1a4e6a9"
      },
      "source": [
        "type(name)"
      ],
      "execution_count": 2,
      "outputs": [
        {
          "output_type": "execute_result",
          "data": {
            "text/plain": [
              "str"
            ]
          },
          "metadata": {
            "tags": []
          },
          "execution_count": 2
        }
      ]
    },
    {
      "cell_type": "code",
      "metadata": {
        "colab": {
          "base_uri": "https://localhost:8080/"
        },
        "id": "4yOln2hpXn0X",
        "outputId": "5404d252-64e1-40ee-f852-a76dec7ca912"
      },
      "source": [
        "print(name)"
      ],
      "execution_count": 3,
      "outputs": [
        {
          "output_type": "stream",
          "text": [
            "iPhone 5s\n"
          ],
          "name": "stdout"
        }
      ]
    },
    {
      "cell_type": "code",
      "metadata": {
        "colab": {
          "base_uri": "https://localhost:8080/"
        },
        "id": "8kocb6u1XsYO",
        "outputId": "738436c9-c383-43d0-ead7-c0dcf297e6c0"
      },
      "source": [
        "screen_size = 4.3\r\n",
        "type(screen_size)"
      ],
      "execution_count": 5,
      "outputs": [
        {
          "output_type": "execute_result",
          "data": {
            "text/plain": [
              "float"
            ]
          },
          "metadata": {
            "tags": []
          },
          "execution_count": 5
        }
      ]
    },
    {
      "cell_type": "code",
      "metadata": {
        "colab": {
          "base_uri": "https://localhost:8080/"
        },
        "id": "pnYUM95FX0Hz",
        "outputId": "e9b9cbd7-e11a-43da-f936-57f4b0793fff"
      },
      "source": [
        "numOfSpeakers = 1\r\n",
        "type(numOfSpeakers)"
      ],
      "execution_count": 6,
      "outputs": [
        {
          "output_type": "execute_result",
          "data": {
            "text/plain": [
              "int"
            ]
          },
          "metadata": {
            "tags": []
          },
          "execution_count": 6
        }
      ]
    },
    {
      "cell_type": "code",
      "metadata": {
        "colab": {
          "base_uri": "https://localhost:8080/"
        },
        "id": "Hh7lRexAX9bF",
        "outputId": "8d219ffc-4905-4969-ecaf-9ec992fcdc6f"
      },
      "source": [
        "print('I just bought an '+ name)"
      ],
      "execution_count": 7,
      "outputs": [
        {
          "output_type": "stream",
          "text": [
            "I just bought an iPhone 5s\n"
          ],
          "name": "stdout"
        }
      ]
    },
    {
      "cell_type": "code",
      "metadata": {
        "colab": {
          "base_uri": "https://localhost:8080/"
        },
        "id": "wboyNlclYGIb",
        "outputId": "c4ade15a-799e-4cf9-9518-51b91d149a40"
      },
      "source": [
        "a = 3\r\n",
        "b = 2\r\n",
        "print(a * b, a / b, a + b, a - b, a ** b, a // b)"
      ],
      "execution_count": 8,
      "outputs": [
        {
          "output_type": "stream",
          "text": [
            "6 1.5 5 1 9 1\n"
          ],
          "name": "stdout"
        }
      ]
    },
    {
      "cell_type": "code",
      "metadata": {
        "colab": {
          "base_uri": "https://localhost:8080/"
        },
        "id": "e-l6s0Q-YcIv",
        "outputId": "439cd8f1-6d66-47e3-e879-6275f27e80e8"
      },
      "source": [
        "is_android = False\r\n",
        "type(is_android)"
      ],
      "execution_count": 9,
      "outputs": [
        {
          "output_type": "execute_result",
          "data": {
            "text/plain": [
              "bool"
            ]
          },
          "metadata": {
            "tags": []
          },
          "execution_count": 9
        }
      ]
    },
    {
      "cell_type": "code",
      "metadata": {
        "colab": {
          "base_uri": "https://localhost:8080/"
        },
        "id": "I5FGggE0Yhmt",
        "outputId": "c12c6e8b-5002-4290-ac2d-f81d6f72001d"
      },
      "source": [
        "print(is_android == True)"
      ],
      "execution_count": 10,
      "outputs": [
        {
          "output_type": "stream",
          "text": [
            "False\n"
          ],
          "name": "stdout"
        }
      ]
    },
    {
      "cell_type": "code",
      "metadata": {
        "colab": {
          "base_uri": "https://localhost:8080/"
        },
        "id": "g0ng8VgZYmzM",
        "outputId": "63989d75-f44f-4d3e-e749-eccfdb706074"
      },
      "source": [
        "print(is_android == False and numOfSpeakers > 1)"
      ],
      "execution_count": 11,
      "outputs": [
        {
          "output_type": "stream",
          "text": [
            "False\n"
          ],
          "name": "stdout"
        }
      ]
    },
    {
      "cell_type": "code",
      "metadata": {
        "colab": {
          "base_uri": "https://localhost:8080/"
        },
        "id": "Ayu-8QrpYtP8",
        "outputId": "00ef2a31-7591-4b8d-f26b-0c9c57f63329"
      },
      "source": [
        "if is_android == True:\r\n",
        "  print(name + ' supports Android')\r\n",
        "  print('Continuing to print inside the if block')\r\n",
        "print('Printing this outside the block')"
      ],
      "execution_count": 12,
      "outputs": [
        {
          "output_type": "stream",
          "text": [
            "Printing this outside the block\n"
          ],
          "name": "stdout"
        }
      ]
    },
    {
      "cell_type": "code",
      "metadata": {
        "colab": {
          "base_uri": "https://localhost:8080/"
        },
        "id": "bfHpVX_LZWyO",
        "outputId": "b021b6b0-84ac-44e5-f5e8-f0232012c5fb"
      },
      "source": [
        "for i in range(5):\r\n",
        "  print(i, i**2)"
      ],
      "execution_count": 13,
      "outputs": [
        {
          "output_type": "stream",
          "text": [
            "0 0\n",
            "1 1\n",
            "2 4\n",
            "3 9\n",
            "4 16\n"
          ],
          "name": "stdout"
        }
      ]
    },
    {
      "cell_type": "markdown",
      "metadata": {
        "id": "8IfChxUtZnzs"
      },
      "source": [
        "*If you want to know about any functio/method, type the name of that and add ? (Question mark there)*"
      ]
    },
    {
      "cell_type": "code",
      "metadata": {
        "id": "l1S1tHS3ZxP2"
      },
      "source": [
        "range?"
      ],
      "execution_count": 14,
      "outputs": []
    },
    {
      "cell_type": "code",
      "metadata": {
        "colab": {
          "base_uri": "https://localhost:8080/"
        },
        "id": "6uRuqiETZ7dH",
        "outputId": "0c21c7cf-7f47-483c-ca59-2745d5f308d9"
      },
      "source": [
        "i = 0\r\n",
        "while i < 5:\r\n",
        "  print(i, i**2)\r\n",
        "  i += 1 #equivalent to i = i + 1"
      ],
      "execution_count": 15,
      "outputs": [
        {
          "output_type": "stream",
          "text": [
            "0 0\n",
            "1 1\n",
            "2 4\n",
            "3 9\n",
            "4 16\n"
          ],
          "name": "stdout"
        }
      ]
    },
    {
      "cell_type": "markdown",
      "metadata": {
        "id": "DCtjJMIPaIiA"
      },
      "source": [
        "*Define function syntax*"
      ]
    },
    {
      "cell_type": "code",
      "metadata": {
        "id": "cUROD3G4aLQC"
      },
      "source": [
        "def print_squares(stop_val):\r\n",
        "  for i in range(stop_val):\r\n",
        "    print(i , i**2)"
      ],
      "execution_count": 17,
      "outputs": []
    },
    {
      "cell_type": "code",
      "metadata": {
        "colab": {
          "base_uri": "https://localhost:8080/"
        },
        "id": "kmzmAjmwaYGb",
        "outputId": "755cdc83-4a99-4c11-ee66-4c0c9ec49f24"
      },
      "source": [
        "print_squares(5)"
      ],
      "execution_count": 18,
      "outputs": [
        {
          "output_type": "stream",
          "text": [
            "0 0\n",
            "1 1\n",
            "2 4\n",
            "3 9\n",
            "4 16\n"
          ],
          "name": "stdout"
        }
      ]
    },
    {
      "cell_type": "code",
      "metadata": {
        "colab": {
          "base_uri": "https://localhost:8080/"
        },
        "id": "WTZFwJGiajTj",
        "outputId": "fa576eee-4f39-42b3-96ae-886b365847e6"
      },
      "source": [
        "print_squares(3)"
      ],
      "execution_count": 19,
      "outputs": [
        {
          "output_type": "stream",
          "text": [
            "0 0\n",
            "1 1\n",
            "2 4\n"
          ],
          "name": "stdout"
        }
      ]
    },
    {
      "cell_type": "markdown",
      "metadata": {
        "id": "7QxhcezLayJp"
      },
      "source": [
        "*Writing a function that can return something*"
      ]
    },
    {
      "cell_type": "code",
      "metadata": {
        "id": "XmtF1Isva3xJ"
      },
      "source": [
        "def sum_of_sqr(stop_val):\r\n",
        "  sum_ = 0\r\n",
        "  for i in range(stop_val):\r\n",
        "    sum_ += i**2\r\n",
        "  return sum_"
      ],
      "execution_count": 22,
      "outputs": []
    },
    {
      "cell_type": "code",
      "metadata": {
        "colab": {
          "base_uri": "https://localhost:8080/"
        },
        "id": "GOvzRcn2axdp",
        "outputId": "61dcad30-17be-4044-d5ee-cb34ad50a345"
      },
      "source": [
        "sum_of_sqr(5)"
      ],
      "execution_count": 23,
      "outputs": [
        {
          "output_type": "execute_result",
          "data": {
            "text/plain": [
              "30"
            ]
          },
          "metadata": {
            "tags": []
          },
          "execution_count": 23
        }
      ]
    },
    {
      "cell_type": "code",
      "metadata": {
        "id": "RuLkFmtTb0kE"
      },
      "source": [
        "sum_5 = sum_of_sqr(5)"
      ],
      "execution_count": 24,
      "outputs": []
    },
    {
      "cell_type": "markdown",
      "metadata": {
        "id": "iPmbPrmbb5Yt"
      },
      "source": [
        "*When we want to define function from starting squares from the values we want*"
      ]
    },
    {
      "cell_type": "code",
      "metadata": {
        "id": "MzNFuSeocAG9"
      },
      "source": [
        "def print_squares_withStartVal(stop_val, start_val = 0):\r\n",
        "  \"\"\"Prints the sqaures of numbers starting from start_val (inclusive) and ending with stop_val(exclusive)\"\"\"\r\n",
        "  for i in range(start_val, stop_val):\r\n",
        "    print(i , i**2)"
      ],
      "execution_count": 26,
      "outputs": []
    },
    {
      "cell_type": "code",
      "metadata": {
        "colab": {
          "base_uri": "https://localhost:8080/"
        },
        "id": "7rQZgXAKcgmJ",
        "outputId": "d85bafa7-3fde-4096-f68b-276ca19b982f"
      },
      "source": [
        "print_squares_withStartVal(5, 2)"
      ],
      "execution_count": 27,
      "outputs": [
        {
          "output_type": "stream",
          "text": [
            "2 4\n",
            "3 9\n",
            "4 16\n"
          ],
          "name": "stdout"
        }
      ]
    },
    {
      "cell_type": "code",
      "metadata": {
        "colab": {
          "base_uri": "https://localhost:8080/"
        },
        "id": "SU-2dl-hc2ck",
        "outputId": "2b12cb0d-22bd-49e5-ebb6-1d2aa9e80b98"
      },
      "source": [
        "help(print_squares_withStartVal)"
      ],
      "execution_count": 28,
      "outputs": [
        {
          "output_type": "stream",
          "text": [
            "Help on function print_squares_withStartVal in module __main__:\n",
            "\n",
            "print_squares_withStartVal(stop_val, start_val=0)\n",
            "    Prints the sqaures of numbers starting from start_val (inclusive) and ending with stop_val(exclusive)\n",
            "\n"
          ],
          "name": "stdout"
        }
      ]
    },
    {
      "cell_type": "code",
      "metadata": {
        "id": "iAcPd0BYc6ts"
      },
      "source": [
        "print_squares_withStartVal?"
      ],
      "execution_count": 29,
      "outputs": []
    }
  ]
}